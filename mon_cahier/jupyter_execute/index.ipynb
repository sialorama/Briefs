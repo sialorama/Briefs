{
 "cells": [
  {
   "cell_type": "markdown",
   "metadata": {},
   "source": [
    "![kusanagi Logo](../images/kusanagi.png)"
   ]
  },
  {
   "cell_type": "markdown",
   "metadata": {},
   "source": [
    "<H1>Cahier d'apprentissage web</H1>\n",
    "               \n",
    "    BY Jamal IBANNI FROM Kusanagi"
   ]
  },
  {
   "cell_type": "markdown",
   "metadata": {},
   "source": [
    "# Introduction"
   ]
  },
  {
   "cell_type": "markdown",
   "metadata": {},
   "source": [
    "<p> Ce cahier d'apprentissage sera mon compagant et aide mémoire au cours de cette année. J'y ajouterai au fur et à mesure les ressources que j'aurai croisé durant mon apprentissage. Ce qui en fera un référentiel pour le quotidient et un reccueil de savoir.<p>"
   ]
  },
  {
   "cell_type": "markdown",
   "metadata": {},
   "source": [
    "###### Sources : \n",
    "- <h5><a href = https://www.elephorm.com/formation/code/python/apprendre-programmer-en-python>ELEPHORM - Apprendre Python</a></h5>\n",
    "- <h5><a href = https://www.kaggle.com/learn/python>KAGGLE</a></h5>\n",
    "- <h5><a href = https://docs.python.org/fr/3/tutorial/index.html>Python.org</a></h5>\n",
    "- <h5><a href = https://openclassrooms.com/forum/categorie/langage-python>OpenClassRoom.com</a></h5>\n",
    "- <h5><a href = https://python.doctor>Python Doctor.com</a></h5>\n"
   ]
  },
  {
   "cell_type": "code",
   "execution_count": null,
   "metadata": {},
   "outputs": [],
   "source": []
  },
  {
   "cell_type": "markdown",
   "metadata": {},
   "source": [
    "\n",
    "```{toctree}\n",
    ":hidden:\n",
    ":titlesonly:\n",
    "\n",
    "\n",
    "annalyse_des_donnees-stat\n",
    "heritage_class_python\n",
    "mysql\n",
    "numpy\n",
    "pandas\n",
    "interface_pyqt\n",
    "tkinter\n",
    "poo\n",
    "proprietes_en_poo\n",
    "python_module_os\n",
    "python_lecture_fichier\n",
    "```\n"
   ]
  }
 ],
 "metadata": {
  "celltoolbar": "Aucun(e)",
  "kernelspec": {
   "display_name": "Python 3",
   "language": "python",
   "name": "python3"
  },
  "language_info": {
   "codemirror_mode": {
    "name": "ipython",
    "version": 3
   },
   "file_extension": ".py",
   "mimetype": "text/x-python",
   "name": "python",
   "nbconvert_exporter": "python",
   "pygments_lexer": "ipython3",
   "version": "3.8.3"
  }
 },
 "nbformat": 4,
 "nbformat_minor": 4
}