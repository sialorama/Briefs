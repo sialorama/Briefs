{
 "cells": [
  {
   "cell_type": "markdown",
   "metadata": {},
   "source": [
    "# MySql"
   ]
  },
  {
   "cell_type": "markdown",
   "metadata": {},
   "source": [
    "### Utiliser une base de donnée MySQL\n",
    "Pour cette partie, on a installé le paquet python3-mysql.connector. "
   ]
  },
  {
   "cell_type": "markdown",
   "metadata": {},
   "source": [
    "A partir de la table arrets disponible dans la base de données Breizhibus, afficher tous les arrêts dans l'ordre alphabétique de leur nom :\n",
    "       SELECT *\n",
    "       FROM arrets\n",
    "       ORDER BY nom"
   ]
  },
  {
   "cell_type": "markdown",
   "metadata": {},
   "source": [
    "### Renommer une tables\n",
    " \n",
    "     RENAME TABLE old_table TO new_table;\n",
    "     ou\n",
    "     RENAME TABLE old_table1 TO new_table1,\n",
    "                 old_table2 TO new_table2,\n",
    "                 old_table3 TO new_table3;"
   ]
  },
  {
   "cell_type": "markdown",
   "metadata": {},
   "source": [
    "### Ajouter des valeur à une table\n",
    "    INSERT INTO tableName (colonne1, colonne2, ...) VALUES (valeur1, valeur2, ...);"
   ]
  },
  {
   "cell_type": "markdown",
   "metadata": {},
   "source": [
    "##### MySql : table arret_ligne dans Brizhibus pour les lignes R, V, B\n",
    "\n",
    "INSERT INTO `arrets_lignes` (`id_ligne`, `id_arret`) VALUES ('1', '1'), ('1', '2'), ('1', '3'), ('2', '2'), ('2', '4'), ('2', '6'), ('3', '4'), ('3', '5'), ('3', '6'), ('3', '1');\n"
   ]
  },
  {
   "cell_type": "markdown",
   "metadata": {},
   "source": [
    "##### MySql : table arret_ligne dans Brizhibus pour la ligne N\n",
    "\n",
    "INSERT INTO `arrets_lignes` (`id_ligne`, `id_arret`) VALUES ('6', '1'), ('6', '3'), ('6', '5');"
   ]
  },
  {
   "cell_type": "markdown",
   "metadata": {},
   "source": [
    "##### Requête pour retourner la liste des lignes :\n",
    "SELECT * FROM lignes;"
   ]
  },
  {
   "cell_type": "markdown",
   "metadata": {},
   "source": [
    "##### Requête pour trouver les arrêts d'une ligne :\n",
    "SELECT * FROM arrets\n",
    "JOIN arrets_lignes ON arrets.id_arret = arrets_lignes.id_arret\n",
    "WHERE id_lignes = 1;\n",
    "Où 1 peut-être n'importe quelle id de ligne."
   ]
  },
  {
   "cell_type": "markdown",
   "metadata": {},
   "source": [
    "![join_on_where Logo](.\\images\\join_on_where.png)"
   ]
  },
  {
   "cell_type": "markdown",
   "metadata": {},
   "source": [
    "##### Les arrêts desservit par la ligne rouge : Join\n",
    "\n",
    "SELECT * FROM `arrets` JOIN lignes ON lignes.id_ligne=arrets.id_arret WHERE id_ligne=1"
   ]
  },
  {
   "cell_type": "markdown",
   "metadata": {},
   "source": [
    "### Ajouter une colonne dans une table\n",
    "\n",
    "###### La syntaxe pour ajouter une colonne dans une table MySQL est la suivante:\n",
    "        ALTER TABLE tableName\n",
    "            ADD newColumn type\n",
    "              [ FIRST | AFTER columnName ]\n",
    "      \n",
    "###### Exemple 1: Ajouter une seule colonne\n",
    "        ALTER TABLE users\n",
    "          ADD age int NOT NULL\n",
    "            AFTER name;\n",
    "          \n",
    "###### Exemple 2: Ajouter plusieurs colonnes\n",
    "        ALTER TABLE users\n",
    "          ADD age int NOT NULL\n",
    "            AFTER name,\n",
    "          ADD address varchar(50) NOT NULL\n",
    "            AFTER age;"
   ]
  },
  {
   "cell_type": "markdown",
   "metadata": {},
   "source": [
    "### Modifier une colonne dans une table\n",
    "\n",
    "###### La syntaxe pour modifier une colonne dans une table MySQL est la suivante:\n",
    "        ALTER TABLE tableName\n",
    "            MODIFY columnName type\n",
    "              [ FIRST | AFTER columnName ];\n",
    "###### Exemple:\n",
    "        ALTER TABLE users\n",
    "          MODIFY address varchar(100) NULL;"
   ]
  },
  {
   "cell_type": "markdown",
   "metadata": {},
   "source": [
    "### Renommer une colonne dans une table\n",
    "\n",
    "###### La syntaxe pour renommer une colonne dans une table MySQL est la suivante:\n",
    "        ALTER TABLE tableName\n",
    "            CHANGE COLUMN oldName newName \n",
    "              type\n",
    "              [ FIRST | AFTER columnName ]\n",
    "\n",
    "###### Exemple:\n",
    "        ALTER TABLE users\n",
    "          CHANGE COLUMN name lastname\n",
    "            varchar(50) NOT NULL;"
   ]
  },
  {
   "cell_type": "markdown",
   "metadata": {},
   "source": [
    "#### Créer la base et insérer des données"
   ]
  },
  {
   "cell_type": "code",
   "execution_count": null,
   "metadata": {},
   "outputs": [],
   "source": [
    "# Nous allons utiliser le module mysql.connector pour nous connecter au serveur MariaDB ou MySQL et créer notre base de données permettant de stocker un catalogue de produits.\n",
    "import mysql.connector\n",
    "\n",
    "baseDeDonnees = mysql.connector.connect(host=\"localhost\",user=\"catalogue\",password=\"JieTh8Th\", database=\"Catalogue\")\n",
    "cursor = baseDeDonnees.cursor()\n",
    "cursor.execute(\"CREATE TABLE Produits (reference CHAR(5) NOT NULL PRIMARY KEY, nom TINYTEXT NOT NULL, prix FLOAT NOT NULL)ENGINE=InnoDB DEFAULT CHARSET=utf8;\")\n",
    "baseDeDonnees.close()"
   ]
  },
  {
   "cell_type": "code",
   "execution_count": null,
   "metadata": {},
   "outputs": [],
   "source": [
    "Nous allons à présent insérer des données dans cette table :\n",
    "    \n",
    "import mysql.connector \n",
    "baseDeDonnees = mysql.connector.connect(host=\"localhost\",user=\"catalogue\",password=\"JieTh8Th\", database=\"Catalogue\")\n",
    "curseur = baseDeDonnees.cursor()\n",
    "curseur.execute(\"INSERT INTO Produits (reference, nom, prix) VALUES (%s, %s, %s)\", (\"ARB42\", \"Canapé deux places noir\", 199.99))\n",
    "baseDeDonnees.commit()\n",
    "baseDeDonnees.close()"
   ]
  },
  {
   "cell_type": "code",
   "execution_count": null,
   "metadata": {},
   "outputs": [],
   "source": [
    "Il est également possible d'insérer des données depuis un dictionnaire :\n",
    "\n",
    "import mysql.connector \n",
    "baseDeDonnees = mysql.connector.connect(host=\"localhost\",user=\"catalogue\",password=\"JieTh8Th\", database=\"Catalogue\")\n",
    "curseur = baseDeDonnees.cursor()\n",
    "produits = [\n",
    "\t{\"reference\":\"EIS3P\", \"nom\":\"Chaise de salle à manger\", \"prix\":25},\n",
    "\t{\"reference\":\"BA9KI\", \"nom\":\"Commode blanche\", \"prix\":139.90},\n",
    "\t{\"reference\":\"OI4HE\", \"nom\":\"Table basse\", \"prix\":24.95},\n",
    "\t{\"reference\":\"IOM9X\", \"nom\":\"Lit double\", \"prix\":699.99}\n",
    "]\n",
    "for fiche in produits:\n",
    "\tcurseur.execute(\"INSERT INTO Produits (reference, nom, prix) VALUES (%(reference)s, %(nom)s, %(prix)s)\", fiche)\n",
    "baseDeDonnees.commit()\n",
    "baseDeDonnees.close()"
   ]
  },
  {
   "cell_type": "markdown",
   "metadata": {},
   "source": [
    "#### Récupérer des données\n",
    "\n",
    "On peut utiliser fetchone pour récupérer le premier résultat ou retourner tous les résultats avec fetchall. Voici comment récupérer le premier résultat d'une requête SELECT."
   ]
  },
  {
   "cell_type": "code",
   "execution_count": null,
   "metadata": {},
   "outputs": [],
   "source": [
    ">>> import mysql.connector \n",
    ">>> baseDeDonnees = mysql.connector.connect(host=\"localhost\",user=\"catalogue\",password=\"JieTh8Th\", database=\"Catalogue\")\n",
    ">>> curseur = baseDeDonnees.cursor()\n",
    ">>> curseur.execute(\"SELECT reference, nom, prix FROM Produits\")\n",
    ">>> print(curseur.fetchone())\n",
    "('ARB42', 'Canapé deux places noir', 199.99)\n",
    ">>> baseDeDonnees.close()"
   ]
  },
  {
   "cell_type": "code",
   "execution_count": null,
   "metadata": {},
   "outputs": [],
   "source": [
    "On peut retourner tous les résultats avec fetchall :\n",
    "\n",
    ">>> import mysql.connector \n",
    ">>> baseDeDonnees = mysql.connector.connect(host=\"localhost\",user=\"catalogue\",password=\"JieTh8Th\", database=\"Catalogue\")\n",
    ">>> curseur = baseDeDonnees.cursor()\n",
    ">>> curseur.execute(\"SELECT reference, nom, prix FROM Produits\")\n",
    ">>> for ligne in curseur.fetchall():\n",
    "...     print(ligne)\n",
    "... \n",
    "('ARB42', 'Canapé deux places noir', 199.99)\n",
    "('BA9KI', 'Commode blanche', 139.9)\n",
    "('EIS3P', 'Chaise de salle à manger', 25.0)\n",
    "('IOM9X', 'Lit double', 699.99)\n",
    "('OI4HE', 'Table basse', 24.95)\n",
    ">>> baseDeDonnees.close()"
   ]
  }
 ],
 "metadata": {
  "kernelspec": {
   "display_name": "Python 3",
   "language": "python",
   "name": "python3"
  },
  "language_info": {
   "codemirror_mode": {
    "name": "ipython",
    "version": 3
   },
   "file_extension": ".py",
   "mimetype": "text/x-python",
   "name": "python",
   "nbconvert_exporter": "python",
   "pygments_lexer": "ipython3",
   "version": "3.8.3"
  }
 },
 "nbformat": 4,
 "nbformat_minor": 4
}