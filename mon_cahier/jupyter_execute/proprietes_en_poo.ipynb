{
 "cells": [
  {
   "cell_type": "markdown",
   "metadata": {},
   "source": [
    "# Propriétés des objets en POO"
   ]
  },
  {
   "cell_type": "markdown",
   "metadata": {},
   "source": [
    "## Encapsulation\n",
    "\n",
    "L'encapsulation est un principe qui consiste à cacher ou protéger certaines données d'un objet. C'est un moyen de protéger les attributs d'objets, en faisant en sorte qu'ils en soient aps accessibles depuis l'extérieur de la classe.\n",
    "\n",
    "Il peut être pratique de sécuriser certaines données d'un objet, par exemple faire en sorte qu'un attribut ne soit pas modifiable, ou alors mettre à jour un attribut dès qu'un autre attribut est modifié. Il est souvent utile de pouvoir contrôler l'accès en lecture ou en écriture sur certains attributs.\n",
    "\n",
    "Cela présente néanmoins l'inconvénient de devoir ecrire des accesseurs et des mutateurs pour les objets. Cela peut être assez lourd, c'est pourquoi, en Python, on ne crée des propriétés que pour les objets dont on attend une action particulière. Pour les autres, on continue à y accéder directement par `objet.attribut`."
   ]
  },
  {
   "cell_type": "markdown",
   "metadata": {},
   "source": [
    "## Accesseurs et mutateurs\n",
    "\n",
    "Les accesseurs donnent accès à l'attribut. On utilise généralement le préfixe `get` pour définir un accesseur. <br>\n",
    "Les mutateurs permettent de modifier un attribut. On utilise le préfixe `set` pour les définir.\n",
    "\n",
    "par convention, on note `_attribut` un attribut qu'on ne doit pas pouvoir appeler depuis l'extérieur de la classe sans passer par les accesseurs et les mutateurs."
   ]
  },
  {
   "cell_type": "markdown",
   "metadata": {},
   "source": [
    "## Propriétés"
   ]
  },
  {
   "cell_type": "markdown",
   "metadata": {},
   "source": [
    "<q> Les propriétés sont un moyen transparent de manipuler des attributs d'objet. Elles permettent de dire à Python : « Quand un utilisateur souhaite modifier cet attribut, fais cela ». De cette façon, on peut rendre certains attributs tout à fait inaccessibles depuis l'extérieur de la classe, ou dire qu'un attribut ne sera visible qu'en lecture et non modifiable. Ou encore, on peut faire en sorte que, si on modifie un attribut, Python recalcule la valeur d'un autre attribut de l'objet.</q> (source : [Openclassroom](https://openclassrooms.com/fr/courses/235344-apprenez-a-programmer-en-python/232793-definissez-des-proprietes#/id/r-232744))"
   ]
  },
  {
   "cell_type": "markdown",
   "metadata": {},
   "source": [
    "## Exemple"
   ]
  },
  {
   "cell_type": "code",
   "execution_count": 9,
   "metadata": {},
   "outputs": [],
   "source": [
    "class Chat :\n",
    "    def __init__(self, race):\n",
    "        self.race = race\n",
    "        self._nb_pattes = 4\n",
    "    \n",
    "    def _get_nb_pattes(self):\n",
    "        return self._nb_pattes\n",
    "    \n",
    "    def _set_nb_pattes(self, nouveau_nb):\n",
    "        self._nb_pattes = nouveau_nb*2\n",
    "        \n",
    "    nb_pattes = property(_get_nb_pattes, _set_nb_pattes)\n",
    "        "
   ]
  },
  {
   "cell_type": "code",
   "execution_count": 10,
   "metadata": {},
   "outputs": [
    {
     "name": "stdout",
     "output_type": "stream",
     "text": [
      "4\n",
      "6\n"
     ]
    }
   ],
   "source": [
    "cat = Chat(\"sphinx\")\n",
    "print(cat.nb_pattes)\n",
    "cat.nb_pattes = 3\n",
    "print(cat.nb_pattes)"
   ]
  },
  {
   "cell_type": "code",
   "execution_count": 13,
   "metadata": {},
   "outputs": [],
   "source": [
    "# alternative avec des décorateurs :\n",
    "class Chat :\n",
    "    def __init__(self, race):\n",
    "        self.race = race\n",
    "        self._nb_pattes = 4\n",
    "    \n",
    "    @property\n",
    "    def nb_pattes(self):\n",
    "        return self._nb_pattes\n",
    "    @nb_pattes.setter\n",
    "    def nb_pattes(self, nouveau_nb):\n",
    "        self._nb_pattes = nouveau_nb*2\n",
    "        "
   ]
  },
  {
   "cell_type": "code",
   "execution_count": 16,
   "metadata": {},
   "outputs": [
    {
     "name": "stdout",
     "output_type": "stream",
     "text": [
      "4\n",
      "6\n"
     ]
    }
   ],
   "source": [
    "kiki = Chat(\"sphinx\")\n",
    "print(kiki.nb_pattes)\n",
    "kiki.nb_pattes = 3\n",
    "print(kiki.nb_pattes)"
   ]
  },
  {
   "cell_type": "markdown",
   "metadata": {},
   "source": [
    "## Sources :\n",
    "[openclassroom](https://openclassrooms.com/fr/courses/235344-apprenez-a-programmer-en-python/232793-definissez-des-proprietes) <br>\n",
    "[pierre giraud cours python ](https://www.pierre-giraud.com/python-apprendre-programmer-cours/oriente-objet-visibilite-attribut/)"
   ]
  }
 ],
 "metadata": {
  "kernelspec": {
   "display_name": "Python 3",
   "language": "python",
   "name": "python3"
  },
  "language_info": {
   "codemirror_mode": {
    "name": "ipython",
    "version": 3
   },
   "file_extension": ".py",
   "mimetype": "text/x-python",
   "name": "python",
   "nbconvert_exporter": "python",
   "pygments_lexer": "ipython3",
   "version": "3.8.3"
  }
 },
 "nbformat": 4,
 "nbformat_minor": 4
}