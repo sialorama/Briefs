{
 "cells": [
  {
   "cell_type": "markdown",
   "metadata": {},
   "source": [
    "# Interfaces graphiques avec Tkinter"
   ]
  },
  {
   "cell_type": "markdown",
   "metadata": {},
   "source": [
    "## Initialisation"
   ]
  },
  {
   "cell_type": "markdown",
   "metadata": {},
   "source": [
    "Tkinter est un module que l'on peut importer dans Python."
   ]
  },
  {
   "cell_type": "code",
   "execution_count": 1,
   "metadata": {},
   "outputs": [],
   "source": [
    "import tkinter as tk"
   ]
  },
  {
   "cell_type": "markdown",
   "metadata": {},
   "source": [
    "Pour démarrer, il faut commencer par créer une fenêtre pour notre application."
   ]
  },
  {
   "cell_type": "code",
   "execution_count": 8,
   "metadata": {},
   "outputs": [],
   "source": [
    "# Création de la fenêtre de l'application\n",
    "root = tk.Tk()\n",
    "# Définir un titre pour la fenêtre\n",
    "root.title(\"Mon Application\")\n",
    "# Définir la taille de la fenêtre \n",
    "root.geometry(\"400x400\") # mettre les pixels suivant ce pattern 0pixels x 0pixels\n",
    "# Définir le style de la fenêtre\n",
    "root.configure(bg=\"black\") # bg = background\n",
    "\n",
    "# Définir une taille minimale\n",
    "root.minsize(200, 200)\n",
    "# Définir une taille maximale\n",
    "root.maxsize(600, 600)\n",
    "\n",
    "# Pour afficher la fenêtre à l'utilisateur\n",
    "root.mainloop()"
   ]
  },
  {
   "cell_type": "markdown",
   "metadata": {},
   "source": [
    "## Les Widgets"
   ]
  },
  {
   "cell_type": "markdown",
   "metadata": {},
   "source": [
    "Il existe différents widgets qui permettent de remplir la fenêtre de l'application."
   ]
  },
  {
   "cell_type": "markdown",
   "metadata": {},
   "source": [
    "### Frame"
   ]
  },
  {
   "cell_type": "markdown",
   "metadata": {},
   "source": [
    "Une frame est un espace que l'on définit dans la fenêtre de notre application.\n",
    "La taille de la frame va dépendre des autres widgets qu'elle contient.\n",
    "\n",
    "Définir plusieurs frames permet de segmenter le contenu de la fenêtre principale pour séparer les différents contenus."
   ]
  },
  {
   "cell_type": "code",
   "execution_count": 10,
   "metadata": {},
   "outputs": [],
   "source": [
    "root = tk.Tk()\n",
    "root.title(\"Mon Application\")\n",
    "root.geometry(\"400x400\")\n",
    "root.configure(bg=\"black\")\n",
    "\n",
    "# Création d'une frame qui contiendra les titres\n",
    "frame_titre = tk.Frame(root, bg=\"red\") # root est la fenêtre à laquelle la frame est rattachée\n",
    "\n",
    "# Permet de l'insérer dans la fenêtre\n",
    "frame_titre.pack()\n",
    "\n",
    "root.mainloop()"
   ]
  },
  {
   "cell_type": "markdown",
   "metadata": {},
   "source": [
    "### Label"
   ]
  },
  {
   "cell_type": "markdown",
   "metadata": {},
   "source": [
    "Permet d'afficher du texte."
   ]
  },
  {
   "cell_type": "code",
   "execution_count": 18,
   "metadata": {},
   "outputs": [],
   "source": [
    "root = tk.Tk()\n",
    "root.title(\"Mon Application\")\n",
    "root.geometry(\"400x400\")\n",
    "root.configure(bg=\"black\")\n",
    "\n",
    "frame_titre = tk.Frame(root, bg=\"red\")\n",
    "frame_titre.pack()\n",
    "\n",
    "# On définit le texte que l'on veut afficher dans notre frame\n",
    "titre = tk.Label(frame_titre, text='Je suis le titre', font=(\"Helvetica\", 20), bg='orange', fg='white')\n",
    "# text = le texte à afficher, font = définir une police particulière et sa taille, \n",
    "# bg = couleur de l'arrière plan, et fg = couleur du texte\n",
    "\n",
    "# Il faut également lui dire de l'afficher dans la frame\n",
    "titre.pack(pady=10, padx=10) \n",
    "# pady et padx sont des marges en pixels sur les axes y et x, \n",
    "# c'est-à-dire en vertical et en horizontal respectivement.\n",
    "# Ces marges nous permettront de voir la couleur de la frame qui comprend notre texte.\n",
    "\n",
    "root.mainloop()"
   ]
  },
  {
   "cell_type": "markdown",
   "metadata": {},
   "source": [
    "### Button"
   ]
  },
  {
   "cell_type": "markdown",
   "metadata": {},
   "source": [
    "Tkinter permet la création de boutons qui permettent des interactions avec l'utilisateur.\n",
    "Il est possible d'appeler une fonction en cliquant sur le bouton."
   ]
  },
  {
   "cell_type": "code",
   "execution_count": 31,
   "metadata": {},
   "outputs": [],
   "source": [
    "import random as rand\n",
    "\n",
    "# Fonction utilisée sur le bouton que l'on va créé\n",
    "# La fonction change le texte affiché dans le Label titre.\n",
    "# La fonction prend un chiffre aléatoire entre 1 et 6 et écrit le résultat à la place \n",
    "# du titre de notre application.\n",
    "def roll():\n",
    "    x = rand.randint(1, 6)\n",
    "    titre.configure(text=x)  "
   ]
  },
  {
   "cell_type": "code",
   "execution_count": 32,
   "metadata": {},
   "outputs": [],
   "source": [
    "root = tk.Tk()\n",
    "root.title(\"Mon Application\")\n",
    "root.geometry(\"800x400\")\n",
    "root.configure(bg=\"black\")\n",
    "\n",
    "frame_titre = tk.Frame(root, bg=\"red\")\n",
    "frame_titre.pack()\n",
    "\n",
    "#Nouvelle fenêtre qui contiendra les boutons\n",
    "frame_bouton = tk.Frame(root, bg=\"black\")\n",
    "frame_bouton.pack()\n",
    "\n",
    "titre = tk.Label(frame_titre, text='Cliquez sur le bouton pour lancer le dé.', font=(\"Helvetica\", 20), bg='orange', fg='white')\n",
    "titre.pack(pady=10, padx=10) \n",
    "\n",
    "# Création du bouton\n",
    "bouton = tk.Button(frame_bouton, text='Lancer le dé', height=5, width=20, bd=0)\n",
    "# height = permet de définir la hauteur du bouton, width = définir la largeur, \n",
    "# bd = pour lui dire que l'on veut un bouton sans bordure,\n",
    "# command = permet de lui indiquer une fonction a exécuter lorsque l'utilisateur clique sur le bouton\n",
    "\n",
    "# Il est possible de modifier les propriétés d'un bouton pour lui ajouter une commande\n",
    "bouton.configure(command=roll) # la fonction appelée ne prend pas d'arguments donc pas de ()\n",
    "\n",
    "# Afficher le bouton dans la frame\n",
    "bouton.pack()\n",
    "\n",
    "root.mainloop()"
   ]
  },
  {
   "cell_type": "markdown",
   "metadata": {},
   "source": [
    "### Entry"
   ]
  },
  {
   "cell_type": "markdown",
   "metadata": {},
   "source": [
    "Une Entry correspond à un champ de saisie qui permet à l'utilisateur de spécifier une variable qui sera utilisée dans notre application après."
   ]
  },
  {
   "cell_type": "code",
   "execution_count": 42,
   "metadata": {},
   "outputs": [],
   "source": [
    "def roll_x():\n",
    "    # on défini la borne supérieure pour le lancer aléatoire\n",
    "    # on lui indique que la borne supérieure correspond à la valeur saisie par l'utilisateur\n",
    "    x = rand.randint(1, int(saisi.get()))\n",
    "    titre.configure(text=x)  \n",
    "\n",
    "root = tk.Tk()\n",
    "root.title(\"Mon Application\")\n",
    "root.geometry(\"800x400\")\n",
    "root.configure(bg=\"black\")\n",
    "\n",
    "frame_titre = tk.Frame(root, bg=\"red\")\n",
    "frame_titre.pack()\n",
    "\n",
    "frame_bouton = tk.Frame(root, bg=\"black\")\n",
    "frame_bouton.pack()\n",
    "\n",
    "titre = tk.Label(frame_titre, text='Cliquez sur le bouton pour lancer le dé.', font=(\"Helvetica\", 20), bg='orange', fg='white')\n",
    "titre.pack(pady=10, padx=10) \n",
    "\n",
    "bouton = tk.Button(frame_bouton, text='Lancer le dé', height=5, width=20, bd=0)\n",
    "bouton.configure(command=roll_x)\n",
    "bouton.pack()\n",
    "\n",
    "# On créé une entry pour que l'utilisateur ait un choix de nombre maximum pour le dé\n",
    "saisi = tk.Entry(frame_bouton, width=10, justify=\"center\", font=(\"Helvetica\", 10), bg=\"white\", fg=\"black\")\n",
    "# justify = permet de définir comment le texte est justifié, soit \"center\", \"left\", \"right\"\n",
    "# par défaut le texte est justifié à gauche\n",
    "\n",
    "# Afficher l'entry dans la fenêtre\n",
    "saisi.pack()\n",
    "\n",
    "root.mainloop()"
   ]
  },
  {
   "cell_type": "markdown",
   "metadata": {},
   "source": [
    "## Les méthodes d'affichage"
   ]
  },
  {
   "cell_type": "markdown",
   "metadata": {},
   "source": [
    "### Pack"
   ]
  },
  {
   "cell_type": "markdown",
   "metadata": {},
   "source": [
    "`pack` permet d'ajouter le widget directement dans une fenêtre à l'endroit où il y a de la place.  \n",
    "Il existe plusieurs paramètres permettant de configurer le `pack`."
   ]
  },
  {
   "cell_type": "markdown",
   "metadata": {},
   "source": [
    "```python\n",
    ".pack(expand=\"YES\") # permet de prendre la largeur entière de la frame dans laquelle le widget se situe\n",
    ".pack(fill=\"x\") # permet de faire un expand mais uniquement en x\n",
    ".pack(fill=\"y\") # permet de faire un expand mais uniquement en y\n",
    "\n",
    ".pack(pady=10) # permet de définir une marge externe à l'objet horizontale\n",
    ".pack(padx=10) # permet de définir une marge externe à l'objet verticale\n",
    "\n",
    ".pack(ipady=10) # permet de définir une marge interne à l'objet horizontale\n",
    ".pack(ipadx=10) # permet de définir une marge interne à l'objet verticale\n",
    "\n",
    ".pack(side=\"top\") # permet de définir la position d'affichage (left, right, top, bottom)\n",
    "```"
   ]
  },
  {
   "cell_type": "markdown",
   "metadata": {},
   "source": [
    "### Grid"
   ]
  },
  {
   "cell_type": "markdown",
   "metadata": {},
   "source": [
    "`grid` permet de faire la même chose que `pack` mais cette fois en suivant une logique de quadrillage.\n",
    "Il faudra donc indiquer sur quelle ligne et sur quelle colonne afficher le widget."
   ]
  },
  {
   "cell_type": "markdown",
   "metadata": {},
   "source": [
    "```python\n",
    ".grid(row=0, column=0) # la première ligne est 0, de même pour la première colonne\n",
    "\n",
    ".grid(padx=10, pady=10) # même chose que pour pack\n",
    ".grid(ipadx=10, ipady=10) # même chose que pour pack\n",
    "\n",
    ".grid(sticky=\"n\") # permet d'afficher en fonction d'une orientation (\"n\", \"s\", \"w\", \"e\", \"ne\", \"se\", \"nw\", \"sw\")\n",
    "\n",
    ".grid(columnspan=5) # permet de définir sur combien de colonnes s'étend le widget, par défaut columnspan=1\n",
    ".grid(rowspan=5) # permet de définir sur combien de lignes s'étend le widget, par défaut rowspan=1\n",
    "```"
   ]
  }
 ],
 "metadata": {
  "kernelspec": {
   "display_name": "Python 3",
   "language": "python",
   "name": "python3"
  },
  "language_info": {
   "codemirror_mode": {
    "name": "ipython",
    "version": 3
   },
   "file_extension": ".py",
   "mimetype": "text/x-python",
   "name": "python",
   "nbconvert_exporter": "python",
   "pygments_lexer": "ipython3",
   "version": "3.8.3"
  }
 },
 "nbformat": 4,
 "nbformat_minor": 4
}
