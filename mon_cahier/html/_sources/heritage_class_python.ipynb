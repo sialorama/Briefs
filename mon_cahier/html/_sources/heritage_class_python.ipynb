{
 "cells": [
  {
   "cell_type": "markdown",
   "metadata": {},
   "source": [
    "# Héritage\n",
    "\n",
    "Sources :\n",
    "https://www.programiz.com/python-programming/inheritance\n",
    "\n",
    "\n",
    "L'héritage permet de définir une classe qui va reprendre toutes les fonctionnalités d'une classe parente et nous permettre d'en ajouter davantage.\n",
    "\n",
    "La classe parente (ou base / super-classe) n’est pas modifiée par le processus de création de la classe enfant (ou dérivée).\n",
    "\n",
    "Les classes parentes ne sont pas instanciables.\n",
    "\n",
    "\n"
   ]
  },
  {
   "cell_type": "code",
   "execution_count": 15,
   "metadata": {},
   "outputs": [],
   "source": [
    "class Animal():\n",
    "    \n",
    "    def __init__(self):\n",
    "        pass\n",
    "\n",
    "    def dire_nom(self):\n",
    "        print(f\"Je m’appelle {self.name}.\")\n",
    "\n",
    "    def crier(self, x):\n",
    "        print(x*3)"
   ]
  },
  {
   "cell_type": "markdown",
   "metadata": {},
   "source": [
    "On crée une classe fille à la classe Animal :"
   ]
  },
  {
   "cell_type": "code",
   "execution_count": 22,
   "metadata": {},
   "outputs": [
    {
     "name": "stdout",
     "output_type": "stream",
     "text": [
      "Je m’appelle Rex.\n",
      "Woof ! Woof ! Woof ! \n"
     ]
    }
   ],
   "source": [
    "class Chien(Animal):\n",
    "    \n",
    "    def __init__(self, name):\n",
    "        self.name = name\n",
    "    \n",
    "    def abboyer(self):\n",
    "        super().crier(\"Woof ! \")\n",
    "\n",
    "chien = Chien(\"Rex\")\n",
    "\n",
    "chien.dire_nom()\n",
    "chien.abboyer()"
   ]
  },
  {
   "cell_type": "markdown",
   "metadata": {},
   "source": [
    "Dans cet exemple on veut créer une classe chien, mais il est pertinent de créer une super-classe animal.\n",
    "\n",
    "De cette façon, on peut profiter des fonctionnalités de la classe animal dans diverses classes dérivées qui correspondront à d'autres espèces ayant en plus leurs propres fonctionnalités."
   ]
  },
  {
   "cell_type": "markdown",
   "metadata": {},
   "source": [
    "`    def cri(self):\n",
    "        super().cri(\"Woof! \")\n",
    "`\n",
    "\n",
    "Ici, super() est une référence implicite à la classe mère. À ce titre, cela vous dispense d'utiliser le self lors de l'appel."
   ]
  },
  {
   "cell_type": "markdown",
   "metadata": {},
   "source": [
    "Il est possible pour une classe dérivée d'hériter de plusieurs parents, on l'écrit ainsi :"
   ]
  },
  {
   "cell_type": "code",
   "execution_count": 23,
   "metadata": {},
   "outputs": [
    {
     "name": "stdout",
     "output_type": "stream",
     "text": [
      "Je m’appelle Quentin.\n",
      "Wif ! Wif ! Wif ! \n",
      "Je suis petit et très méchant.\n"
     ]
    }
   ],
   "source": [
    "class Chihuahua (Chien):\n",
    "    def __init__ (self,name):\n",
    "        self.name = name\n",
    "        self.race = \"Chihuahua\"\n",
    "        self.cri = \"Wif ! \"\n",
    "    \n",
    "    def decrire(self):\n",
    "        print(\"Je suis petit et très méchant.\")\n",
    "\n",
    "roquet = Chihuahua(\"Quentin\")\n",
    "roquet.dire_nom()\n",
    "roquet.crier(roquet.cri)\n",
    "roquet.decrire()"
   ]
  },
  {
   "cell_type": "markdown",
   "metadata": {},
   "source": [
    "Chihuahua est donc une classe dérivée de la classe Chien elle-même dérivée de la classe Animal."
   ]
  }
 ],
 "metadata": {
  "kernelspec": {
   "display_name": "Python 3",
   "language": "python",
   "name": "python3"
  },
  "language_info": {
   "codemirror_mode": {
    "name": "ipython",
    "version": 3
   },
   "file_extension": ".py",
   "mimetype": "text/x-python",
   "name": "python",
   "nbconvert_exporter": "python",
   "pygments_lexer": "ipython3",
   "version": "3.8.3"
  },
  "varInspector": {
   "cols": {
    "lenName": 16,
    "lenType": 16,
    "lenVar": 40
   },
   "kernels_config": {
    "python": {
     "delete_cmd_postfix": "",
     "delete_cmd_prefix": "del ",
     "library": "var_list.py",
     "varRefreshCmd": "print(var_dic_list())"
    },
    "r": {
     "delete_cmd_postfix": ") ",
     "delete_cmd_prefix": "rm(",
     "library": "var_list.r",
     "varRefreshCmd": "cat(var_dic_list()) "
    }
   },
   "types_to_exclude": [
    "module",
    "function",
    "builtin_function_or_method",
    "instance",
    "_Feature"
   ],
   "window_display": false
  }
 },
 "nbformat": 4,
 "nbformat_minor": 4
}
