{
 "cells": [
  {
   "cell_type": "markdown",
   "metadata": {},
   "source": [
    "# Python Traitement de fichiers"
   ]
  },
  {
   "cell_type": "markdown",
   "metadata": {},
   "source": [
    "## La gestion des fichiers"
   ]
  },
  {
   "cell_type": "markdown",
   "metadata": {},
   "source": [
    "La fonction clé pour travailler avec des fichiers en Python est la open()fonction.\n",
    "\n",
    "La open()fonction prend deux paramètres; nom de fichier et mode ."
   ]
  },
  {
   "cell_type": "markdown",
   "metadata": {},
   "source": [
    "\n",
    "###### Il existe quatre méthodes (modes) différentes pour ouvrir un fichier:\n",
    "\n",
    "\"r\"- Lire - Valeur par défaut. Ouvre un fichier en lecture, erreur si le fichier n'existe pas\n",
    "\n",
    "\"a\" - Ajouter - Ouvre un fichier à ajouter, crée le fichier s'il n'existe pas\n",
    "\n",
    "\"w\" - Ecrire - Ouvre un fichier pour l'écriture, crée le fichier s'il n'existe pas\n",
    "\n",
    "\"x\" - Créer - Crée le fichier spécifié, renvoie une erreur si le fichier existe"
   ]
  },
  {
   "cell_type": "markdown",
   "metadata": {},
   "source": [
    "###### Pour ouvrir un fichier en lecture, il suffit de spécifier le nom du fichier:\n",
    "f = open(\"demofile.txt\")"
   ]
  },
  {
   "cell_type": "code",
   "execution_count": 4,
   "metadata": {},
   "outputs": [
    {
     "name": "stdout",
     "output_type": "stream",
     "text": [
      "!!! Now the file has more content !!!\n"
     ]
    }
   ],
   "source": [
    "f = open(\"test.txt\", \"r\")\n",
    "print(f.read())"
   ]
  },
  {
   "cell_type": "code",
   "execution_count": 16,
   "metadata": {},
   "outputs": [
    {
     "name": "stdout",
     "output_type": "stream",
     "text": [
      "!!! Now the file has more content !!!!!! Now the file has more content !!!\n"
     ]
    }
   ],
   "source": [
    "#Lire  deux lignes en utilisant la readline()méthode\n",
    "f = open(\"test.txt\", \"r\")\n",
    "print(f.readline())"
   ]
  },
  {
   "cell_type": "code",
   "execution_count": 17,
   "metadata": {},
   "outputs": [
    {
     "name": "stdout",
     "output_type": "stream",
     "text": [
      "!!! N\n"
     ]
    }
   ],
   "source": [
    "#Renvoie les 5 premiers caractères du fichier:\n",
    "f = open(\"test.txt\", \"r\")\n",
    "print(f.read(5))"
   ]
  },
  {
   "cell_type": "code",
   "execution_count": 7,
   "metadata": {},
   "outputs": [
    {
     "name": "stdout",
     "output_type": "stream",
     "text": [
      "!!! Now the file has more content !!!\n"
     ]
    }
   ],
   "source": [
    "#Parcourir le fichier ligne par ligne:\n",
    "f = open(\"test.txt\", \"r\")\n",
    "for x in f:\n",
    "  print(x)"
   ]
  },
  {
   "cell_type": "code",
   "execution_count": 8,
   "metadata": {},
   "outputs": [
    {
     "name": "stdout",
     "output_type": "stream",
     "text": [
      "!!! Now the file has more content !!!\n"
     ]
    }
   ],
   "source": [
    "#Fermer le fichier à la fin d'utilisation\n",
    "f = open(\"test.txt\", \"r\")\n",
    "print(f.readline())\n",
    "f.close()"
   ]
  },
  {
   "cell_type": "markdown",
   "metadata": {},
   "source": [
    "Écrire dans un fichier existant\n",
    "Pour écrire dans un fichier existant, vous devez ajouter un paramètre à la open()fonction:\n",
    "\n",
    "\"a\" - Ajouter - ajoutera à la fin du fichier\n",
    "\n",
    "\"w\" - Ecrire - écrasera tout contenu existant"
   ]
  },
  {
   "cell_type": "code",
   "execution_count": 9,
   "metadata": {},
   "outputs": [
    {
     "name": "stdout",
     "output_type": "stream",
     "text": [
      "!!! Now the file has more content !!!!!! Now the file has more content !!!\n"
     ]
    }
   ],
   "source": [
    "#Ouvrez le fichier \"test2.txt\" et ajoutez le contenu au fichier test:\n",
    "f = open(\"test.txt\", \"a\")\n",
    "f.write(\"!!! Now the file has more content !!!\")\n",
    "f.close()\n",
    "\n",
    "#open and read the file after the appending:\n",
    "f = open(\"test.txt\", \"r\")\n",
    "print(f.read())"
   ]
  },
  {
   "cell_type": "code",
   "execution_count": 10,
   "metadata": {},
   "outputs": [
    {
     "name": "stdout",
     "output_type": "stream",
     "text": [
      "Woops! I have deleted the content!\n"
     ]
    }
   ],
   "source": [
    "#Ouvrir le fichier \"demofile3.txt\" et écrasez le contenu:\n",
    "f = open(\"test2.txt\", \"w\")\n",
    "f.write(\"Woops! I have deleted the content!\")\n",
    "f.close()\n",
    "\n",
    "#open and read the file after the appending:\n",
    "f = open(\"test2.txt\", \"r\")\n",
    "print(f.read())"
   ]
  },
  {
   "cell_type": "markdown",
   "metadata": {},
   "source": [
    "### Créer un nouveau fichier"
   ]
  },
  {
   "cell_type": "markdown",
   "metadata": {},
   "source": [
    "Pour créer un nouveau fichier en Python, utilisez la open()méthode, avec l'un des paramètres suivants:\n",
    "\n",
    "\"x\" - Créer - créera un fichier, renvoie une erreur si le fichier existe\n",
    "\n",
    "\"a\" - Ajouter - créera un fichier si le fichier spécifié n'existe pas\n",
    "\n",
    "\"w\" - Ecrire - créera un fichier si le fichier spécifié n'existe pas"
   ]
  },
  {
   "cell_type": "code",
   "execution_count": 11,
   "metadata": {},
   "outputs": [],
   "source": [
    "#Créer un fichier monfichier.txt\n",
    "f = open(\"monfichier.txt\", \"x\")"
   ]
  },
  {
   "cell_type": "code",
   "execution_count": 12,
   "metadata": {},
   "outputs": [],
   "source": [
    "#Créerz un nouveau fichier s'il n'existe pas:\n",
    "\n",
    "f = open(\"monfichier2.txt\", \"w\")"
   ]
  },
  {
   "cell_type": "markdown",
   "metadata": {},
   "source": [
    "### Supprimer un fichier"
   ]
  },
  {
   "cell_type": "code",
   "execution_count": 13,
   "metadata": {},
   "outputs": [],
   "source": [
    "#Supprimez le fichier monfichier2.txt:\n",
    "\n",
    "import os\n",
    "os.remove(\"monfichier.txt\")"
   ]
  },
  {
   "cell_type": "markdown",
   "metadata": {},
   "source": [
    "### Vérifiez si le fichier existe:"
   ]
  },
  {
   "cell_type": "code",
   "execution_count": 14,
   "metadata": {},
   "outputs": [],
   "source": [
    "import os\n",
    "if os.path.exists(\"test2.txt\"):\n",
    "  os.remove(\"test2.txt\")\n",
    "else:\n",
    "  print(\"The file does not exist\")"
   ]
  },
  {
   "cell_type": "markdown",
   "metadata": {},
   "source": [
    "### Supprimer le dossier"
   ]
  },
  {
   "cell_type": "code",
   "execution_count": null,
   "metadata": {},
   "outputs": [],
   "source": [
    "import os\n",
    "os.rmdir(\"mmondossier\")"
   ]
  }
 ],
 "metadata": {
  "kernelspec": {
   "display_name": "Python 3",
   "language": "python",
   "name": "python3"
  },
  "language_info": {
   "codemirror_mode": {
    "name": "ipython",
    "version": 3
   },
   "file_extension": ".py",
   "mimetype": "text/x-python",
   "name": "python",
   "nbconvert_exporter": "python",
   "pygments_lexer": "ipython3",
   "version": "3.8.3"
  }
 },
 "nbformat": 4,
 "nbformat_minor": 4
}
