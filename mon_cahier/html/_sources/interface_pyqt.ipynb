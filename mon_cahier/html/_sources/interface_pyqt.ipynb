{
 "cells": [
  {
   "cell_type": "markdown",
   "metadata": {},
   "source": [
    "# Interfaces graphiques avec PyQt"
   ]
  },
  {
   "cell_type": "markdown",
   "metadata": {},
   "source": [
    "[PyQt5](https://riverbankcomputing.com/software/pyqt/intro) est une librairie Python qui permet de créer facilement des interfaces graphiques (GUI - IHM).<br>\n",
    "Il existe de nombreuses autres bibliothèques concurentes, comme par exemple [Qt for Python](https://www.qt.io/qt-for-python), dont l'API est similaire, et qui contrairement à PyQt est distribuée sous licence LGPL, ce qui permet de l'utiliser gratuitement pour des projets commerciaux. Il est relativement aisé de passer de l'une à l'autre si nécessaire."
   ]
  },
  {
   "cell_type": "markdown",
   "metadata": {},
   "source": [
    "## Hello World !\n",
    "\n",
    "Après avoir importé les modules nécessaires, Qt requiert de commencer par créer une `QApplication`. Chaque interface graphique (GUI) doit comporter exactement _une_ instance de QApplication. La majorité des modules Qt ne fonctionneront pas tant que la commande `app = QApplication([])` n'aura pas été exécutée.<br>\n",
    "Des arguments peuvent être passés entre les crochets `[]`. Dans notre exemple ci-dessous, notre app n'utilise aucun paramètre, nous laissons donc les crochets vides.\n",
    "\n",
    "Une autre étape importante à ne pas oublier est de demander au programme de prendre le contrôle sur Qt, en lui demandant de \"faire tourner l'application jusqu'à ce que l'utilisateur la ferme\". Ceci est permis par la commande `app.exec_()`. "
   ]
  },
  {
   "cell_type": "markdown",
   "metadata": {},
   "source": [
    "```python \n",
    "from PyQt5.QtWidgets import QApplication, QLabel\n",
    "\n",
    "app = QApplication([])\n",
    "label = QLabel('Hello World!') # creation d'un label\n",
    "label.show() # affichage du label sur l'écran\n",
    "app.exec_()\n",
    "```"
   ]
  },
  {
   "cell_type": "markdown",
   "metadata": {},
   "source": [
    "## Widgets\n",
    "\n",
    "Tous ce qu'on peut voir dans une app PyQt est appelé _widget_.<br>\n",
    "Les plus courants sont :\n",
    "*    __QLabel__ : étiquette\n",
    "*    __QComboBox__ : liste déroulante combinée à une zone de texte (boîte combinée)\n",
    "*    __QCheckBox__ : case à cocher\n",
    "*    __QRadioButton__ : bouton radio, dont l'objectif est de choisir une et une seule option (utilisés en groupe)\n",
    "*    __QPushButton__ : bouton poussoir\n",
    "*    __QTableWidget__ : tableau\n",
    "*    __QLineEdit__ : champs de remplissage de texte (zone de texte)\n",
    "*    __QSlider__ : curseur sur glissière graduée\n",
    "*    __QProgressBar__ : barre de progression, pour traduire l'etat d'avancement d'un travail \n"
   ]
  },
  {
   "cell_type": "markdown",
   "metadata": {},
   "source": [
    "## Layouts (disposition)\n",
    "\n",
    "Une GUI étant généralement constituée de plusieurs Widgets, il est nécessaire de fournir à PyQt les instructions pour les positionner. <br>\n",
    "On utilise par exemple `QVBoxLayout()` pour empiler les Widgets verticalement, ou  `QHBoxLayout()` pour les disposer horizontalement.<br> \n",
    "\n",
    "`QGridLayout` permet de placer les éléments sur une grille, on passe leur position (ligne, colonne) en arguments.\n",
    "\n",
    "```python\n",
    "self.layout = QGridLayout()   # Création de la grille de placement\n",
    "self.layout.addWidget(self.libelle, 0, 0)  # Placement du label en haut de l'UI\n",
    "self.layout.addWidget(self.bouton1, 1, 0) \n",
    "self.layout.addWidget(self.bouton2, 1, 1)\n",
    "```\n",
    "\n",
    "\n",
    "Il exite beaucoup d'autres types de layouts, à retrouver dnas la [documentation Qt](http://doc.qt.io/qt-5/layout.html)"
   ]
  },
  {
   "cell_type": "markdown",
   "metadata": {},
   "source": [
    "## Styles\n",
    "\n",
    "### Styles buit-in\n",
    "Les styles disponibles dépendent de la platefonrme qur laquelle on travaille, mais sont généralement 'Fusion', 'Windows', 'WindowsVista' (Windows uniquement) and 'Macintosh' (Mac uniquement).<br>\n",
    "Pour les appliquer, on utilise `app.setStyle(...)`:\n",
    "```python\n",
    "from PyQt5.QtWidgets import *\n",
    "app = QApplication([])\n",
    "app.setStyle('Fusion')\n",
    "...```"
   ]
  },
  {
   "cell_type": "markdown",
   "metadata": {},
   "source": [
    "### Couleurs\n",
    "Pour personnaliser les couleurs, on utilise le module QPalette et la commande `app.setPalette(...)`.<br>\n",
    "L'exemple ci-dessous affiche le texte du bouton poussoir en rouge :\n",
    "\n",
    "```python\n",
    "from PyQt5.QtCore import Qt\n",
    "from PyQt5.QtGui import QPalette\n",
    "from PyQt5.QtWidgets import QApplication, QPushButton\n",
    "\n",
    "app = QApplication([])\n",
    "app.setStyle('Fusion')\n",
    "palette = QPalette()\n",
    "palette.setColor(QPalette.ButtonText, Qt.red)\n",
    "app.setPalette(palette)\n",
    "button = QPushButton('Hello World')\n",
    "button.show()\n",
    "app.exec_()\n",
    "\n",
    "\n",
    "```\n",
    "Voir [ici sur GitHub](https://gist.github.com/mstuttgart/37c0e6d8f67a0611674e08294f3daef7) un exemple de palette Dark Theme complète, qui donne également un bon apperçu des possibilités offertes par ce module Palette."
   ]
  },
  {
   "cell_type": "markdown",
   "metadata": {},
   "source": [
    "### Style sheets\n",
    "Une autre façon de mofifier l'apparence d'une app est d'utiliser *style sheet*. La syntaxe utilisée entre accolades est alors similaire au CSS.\n",
    "\n",
    "```python\n",
    "app = QApplication([])\n",
    "app.setStyleSheet(\"QPushButton { margin: 10ex; }\")```\n",
    "\n",
    "Voir [la documentation complète](https://doc.qt.io/qt-5/stylesheet-syntax.html)"
   ]
  },
  {
   "cell_type": "markdown",
   "metadata": {},
   "source": [
    "## Signaux et 'slots'\n",
    "\n",
    "Qt utilise des mécanisqmes appelés _Signaux_ pour établir la réaction à un événement comme un clic utilisateur sur un bouton. La syntaxe utilisée est la suivante : `button.clicked.connect(...)` : `button.clicked` est le signal, `.connect` permet d'installer un *slot*, qui est simplement une fonction appelée lorsque le signal est activé.\n",
    "\n",
    "Le terme *slot* est inportant en C++, où les slots sont déclarés d'une façon particulière, en Python, n'importe quelle fonction peut être un slot."
   ]
  },
  {
   "cell_type": "markdown",
   "metadata": {},
   "source": [
    "```python\n",
    "from PyQt5.QtWidgets import QWidget, QApplication, QPushButton, QVBoxLayout, QMessageBox, QLabel\n",
    "\n",
    "class Fenetre(QWidget):\n",
    "\tdef __init__(self):\n",
    "\t\tQWidget.__init__(self)\n",
    "\t\tself.setWindowTitle(\"Deux possibilités\")\n",
    "\t\tself.setGeometry(500,100,300,200)\n",
    "\n",
    "\t\tself.bouton1 = QPushButton(\"bouton du haut\")\n",
    "\t\tself.bouton1.clicked.connect(self.appui_bouton1)\n",
    "\t\tself.bouton2 = QPushButton(\"bouton du bas\")\n",
    "\t\tself.bouton2.clicked.connect(self.appui_bouton2)\n",
    "\t\tself.reponse = QLabel()\n",
    "\t\tself.reponse.setText(\"Appuyez sur le bouton du haut.\")\n",
    "\n",
    "\t\tlayout = QVBoxLayout()\n",
    "\t\tlayout.addWidget(self.bouton1)\n",
    "\t\tlayout.addWidget(self.bouton2)\n",
    "\t\tlayout.addWidget(self.reponse)\n",
    "\t\tself.setLayout(layout)\n",
    "\n",
    "\tdef appui_bouton1(self):\n",
    "\t\tself.reponse.setText(\"Ok, c'est bien le bouton du haut.\")\n",
    "\n",
    "\tdef appui_bouton2(self):\n",
    "\t\tself.alert = QMessageBox()\n",
    "\t\tself.alert.setText('Vous avez appuyé sur le bouton du bas !')\n",
    "\t\tself.alert.exec_()\n",
    "\n",
    "def main():\n",
    "\tapp = QApplication([])\n",
    "\tfen = Fenetre()\n",
    "\n",
    "\tfen.show()\n",
    "\tapp.exec_()\n",
    "\n",
    "main()\n",
    "```"
   ]
  },
  {
   "cell_type": "code",
   "execution_count": null,
   "metadata": {},
   "outputs": [],
   "source": []
  }
 ],
 "metadata": {
  "kernelspec": {
   "display_name": "Python 3",
   "language": "python",
   "name": "python3"
  },
  "language_info": {
   "codemirror_mode": {
    "name": "ipython",
    "version": 3
   },
   "file_extension": ".py",
   "mimetype": "text/x-python",
   "name": "python",
   "nbconvert_exporter": "python",
   "pygments_lexer": "ipython3",
   "version": "3.8.3"
  }
 },
 "nbformat": 4,
 "nbformat_minor": 4
}
